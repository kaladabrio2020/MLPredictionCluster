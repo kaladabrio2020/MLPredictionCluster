{
 "cells": [
  {
   "cell_type": "code",
   "execution_count": 2,
   "metadata": {},
   "outputs": [
    {
     "name": "stderr",
     "output_type": "stream",
     "text": [
      "2024-05-08 11:49:45.945151: E external/local_xla/xla/stream_executor/cuda/cuda_dnn.cc:9261] Unable to register cuDNN factory: Attempting to register factory for plugin cuDNN when one has already been registered\n",
      "2024-05-08 11:49:45.945216: E external/local_xla/xla/stream_executor/cuda/cuda_fft.cc:607] Unable to register cuFFT factory: Attempting to register factory for plugin cuFFT when one has already been registered\n",
      "2024-05-08 11:49:45.965495: E external/local_xla/xla/stream_executor/cuda/cuda_blas.cc:1515] Unable to register cuBLAS factory: Attempting to register factory for plugin cuBLAS when one has already been registered\n",
      "2024-05-08 11:49:46.019998: I tensorflow/core/platform/cpu_feature_guard.cc:182] This TensorFlow binary is optimized to use available CPU instructions in performance-critical operations.\n",
      "To enable the following instructions: AVX2 FMA, in other operations, rebuild TensorFlow with the appropriate compiler flags.\n",
      "2024-05-08 11:49:48.443499: W tensorflow/compiler/tf2tensorrt/utils/py_utils.cc:38] TF-TRT Warning: Could not find TensorRT\n"
     ]
    }
   ],
   "source": [
    "import numpy as np\n",
    "import PIL\n",
    "import glob\n",
    "import matplotlib.pyplot as plt\n",
    "import keras\n",
    "import tensorflow as tf"
   ]
  },
  {
   "cell_type": "code",
   "execution_count": 3,
   "metadata": {},
   "outputs": [],
   "source": [
    "data = glob.glob('datasets/Rice_Image_Dataset/*')"
   ]
  },
  {
   "cell_type": "code",
   "execution_count": 4,
   "metadata": {},
   "outputs": [],
   "source": [
    "labels = [i.split('/')[-1] for i in data]    "
   ]
  },
  {
   "cell_type": "code",
   "execution_count": 13,
   "metadata": {},
   "outputs": [
    {
     "name": "stdout",
     "output_type": "stream",
     "text": [
      "b'datasets/Rice_Image_Dataset/Arborio/Arborio (1).jpg'\n"
     ]
    },
    {
     "ename": "SyntaxError",
     "evalue": "not a PNG file (<string>)",
     "output_type": "error",
     "traceback": [
      "Traceback \u001b[0;36m(most recent call last)\u001b[0m:\n",
      "\u001b[0m  File \u001b[1;32m~/Documentos/venvGlobal/lib64/python3.11/site-packages/IPython/core/interactiveshell.py:3577\u001b[0m in \u001b[1;35mrun_code\u001b[0m\n    exec(code_obj, self.user_global_ns, self.user_ns)\u001b[0m\n",
      "\u001b[0m  Cell \u001b[1;32mIn[13], line 10\u001b[0m\n    lista_i.append(plt.imread(img.numpy()))\u001b[0m\n",
      "\u001b[0m  File \u001b[1;32m~/Documentos/venvGlobal/lib64/python3.11/site-packages/matplotlib/pyplot.py:2404\u001b[0m in \u001b[1;35mimread\u001b[0m\n    return matplotlib.image.imread(fname, format)\u001b[0m\n",
      "\u001b[0m  File \u001b[1;32m~/Documentos/venvGlobal/lib64/python3.11/site-packages/matplotlib/image.py:1525\u001b[0m in \u001b[1;35mimread\u001b[0m\n    with img_open(fname) as image:\u001b[0m\n",
      "\u001b[0m  File \u001b[1;32m~/Documentos/venvGlobal/lib64/python3.11/site-packages/PIL/ImageFile.py:137\u001b[0m in \u001b[1;35m__init__\u001b[0m\n    self._open()\u001b[0m\n",
      "\u001b[0;36m  File \u001b[0;32m~/Documentos/venvGlobal/lib64/python3.11/site-packages/PIL/PngImagePlugin.py:707\u001b[0;36m in \u001b[0;35m_open\u001b[0;36m\n\u001b[0;31m    raise SyntaxError(msg)\u001b[0;36m\n",
      "\u001b[0;36m  File \u001b[0;32m<string>\u001b[0;36m\u001b[0m\n\u001b[0;31mSyntaxError\u001b[0m\u001b[0;31m:\u001b[0m not a PNG file\n"
     ]
    }
   ],
   "source": [
    "\n",
    "\n",
    "lista_i = []\n",
    "label_l = []\n",
    "\n",
    "for idx, (path, label) in enumerate(zip(data,labels)):\n",
    "    images  = glob.glob(path+'/*.jpg')\n",
    "    dataset = tf.data.Dataset.from_tensor_slices(tf.Variable(images))\n",
    "    for imgs in dataset.batch(batch_size=32).repeat(count=None):\n",
    "        for img in imgs:\n",
    "            print(img.numpy())\n",
    "            lista_i.append(plt.imread(img.numpy()))\n",
    "        break\n",
    "    break\n",
    "\n"
   ]
  },
  {
   "cell_type": "code",
   "execution_count": null,
   "metadata": {},
   "outputs": [],
   "source": []
  },
  {
   "cell_type": "code",
   "execution_count": null,
   "metadata": {},
   "outputs": [],
   "source": []
  },
  {
   "cell_type": "code",
   "execution_count": null,
   "metadata": {},
   "outputs": [],
   "source": []
  }
 ],
 "metadata": {
  "kernelspec": {
   "display_name": "venvGlobal",
   "language": "python",
   "name": "python3"
  },
  "language_info": {
   "codemirror_mode": {
    "name": "ipython",
    "version": 3
   },
   "file_extension": ".py",
   "mimetype": "text/x-python",
   "name": "python",
   "nbconvert_exporter": "python",
   "pygments_lexer": "ipython3",
   "version": "3.11.9"
  }
 },
 "nbformat": 4,
 "nbformat_minor": 2
}
