{
 "cells": [
  {
   "cell_type": "code",
   "execution_count": 32,
   "metadata": {},
   "outputs": [],
   "source": [
    "import numpy as np\n",
    "import pandas as pd \n",
    "import seaborn as sea \n",
    "import matplotlib.pyplot as plt\n",
    "from sklearn.metrics import *"
   ]
  },
  {
   "cell_type": "code",
   "execution_count": 33,
   "metadata": {},
   "outputs": [],
   "source": [
    "data = pd.read_csv('datasets/StudentPrediction/StudentsPerformance.csv')"
   ]
  },
  {
   "cell_type": "code",
   "execution_count": 34,
   "metadata": {},
   "outputs": [
    {
     "name": "stdout",
     "output_type": "stream",
     "text": [
      "<class 'pandas.core.frame.DataFrame'>\n",
      "RangeIndex: 1000 entries, 0 to 999\n",
      "Data columns (total 8 columns):\n",
      " #   Column                       Non-Null Count  Dtype \n",
      "---  ------                       --------------  ----- \n",
      " 0   gender                       1000 non-null   object\n",
      " 1   race/ethnicity               1000 non-null   object\n",
      " 2   parental level of education  1000 non-null   object\n",
      " 3   lunch                        1000 non-null   object\n",
      " 4   test preparation course      1000 non-null   object\n",
      " 5   math score                   1000 non-null   int64 \n",
      " 6   reading score                1000 non-null   int64 \n",
      " 7   writing score                1000 non-null   int64 \n",
      "dtypes: int64(3), object(5)\n",
      "memory usage: 62.6+ KB\n"
     ]
    }
   ],
   "source": [
    "data.info()"
   ]
  },
  {
   "cell_type": "code",
   "execution_count": 35,
   "metadata": {},
   "outputs": [
    {
     "data": {
      "text/html": [
       "<div>\n",
       "<style scoped>\n",
       "    .dataframe tbody tr th:only-of-type {\n",
       "        vertical-align: middle;\n",
       "    }\n",
       "\n",
       "    .dataframe tbody tr th {\n",
       "        vertical-align: top;\n",
       "    }\n",
       "\n",
       "    .dataframe thead th {\n",
       "        text-align: right;\n",
       "    }\n",
       "</style>\n",
       "<table border=\"1\" class=\"dataframe\">\n",
       "  <thead>\n",
       "    <tr style=\"text-align: right;\">\n",
       "      <th></th>\n",
       "      <th>gender</th>\n",
       "      <th>race/ethnicity</th>\n",
       "      <th>parental level of education</th>\n",
       "      <th>lunch</th>\n",
       "      <th>test preparation course</th>\n",
       "      <th>math score</th>\n",
       "      <th>reading score</th>\n",
       "      <th>writing score</th>\n",
       "    </tr>\n",
       "  </thead>\n",
       "  <tbody>\n",
       "    <tr>\n",
       "      <th>0</th>\n",
       "      <td>female</td>\n",
       "      <td>group B</td>\n",
       "      <td>bachelor's degree</td>\n",
       "      <td>standard</td>\n",
       "      <td>none</td>\n",
       "      <td>72</td>\n",
       "      <td>72</td>\n",
       "      <td>74</td>\n",
       "    </tr>\n",
       "    <tr>\n",
       "      <th>1</th>\n",
       "      <td>female</td>\n",
       "      <td>group C</td>\n",
       "      <td>some college</td>\n",
       "      <td>standard</td>\n",
       "      <td>completed</td>\n",
       "      <td>69</td>\n",
       "      <td>90</td>\n",
       "      <td>88</td>\n",
       "    </tr>\n",
       "    <tr>\n",
       "      <th>2</th>\n",
       "      <td>female</td>\n",
       "      <td>group B</td>\n",
       "      <td>master's degree</td>\n",
       "      <td>standard</td>\n",
       "      <td>none</td>\n",
       "      <td>90</td>\n",
       "      <td>95</td>\n",
       "      <td>93</td>\n",
       "    </tr>\n",
       "  </tbody>\n",
       "</table>\n",
       "</div>"
      ],
      "text/plain": [
       "   gender race/ethnicity parental level of education     lunch  \\\n",
       "0  female        group B           bachelor's degree  standard   \n",
       "1  female        group C                some college  standard   \n",
       "2  female        group B             master's degree  standard   \n",
       "\n",
       "  test preparation course  math score  reading score  writing score  \n",
       "0                    none          72             72             74  \n",
       "1               completed          69             90             88  \n",
       "2                    none          90             95             93  "
      ]
     },
     "execution_count": 35,
     "metadata": {},
     "output_type": "execute_result"
    }
   ],
   "source": [
    "data.head(3)"
   ]
  },
  {
   "cell_type": "code",
   "execution_count": 36,
   "metadata": {},
   "outputs": [
    {
     "data": {
      "text/html": [
       "<div>\n",
       "<style scoped>\n",
       "    .dataframe tbody tr th:only-of-type {\n",
       "        vertical-align: middle;\n",
       "    }\n",
       "\n",
       "    .dataframe tbody tr th {\n",
       "        vertical-align: top;\n",
       "    }\n",
       "\n",
       "    .dataframe thead th {\n",
       "        text-align: right;\n",
       "    }\n",
       "</style>\n",
       "<table border=\"1\" class=\"dataframe\">\n",
       "  <thead>\n",
       "    <tr style=\"text-align: right;\">\n",
       "      <th></th>\n",
       "      <th>index</th>\n",
       "      <th>0</th>\n",
       "    </tr>\n",
       "  </thead>\n",
       "  <tbody>\n",
       "  </tbody>\n",
       "</table>\n",
       "</div>"
      ],
      "text/plain": [
       "Empty DataFrame\n",
       "Columns: [index, 0]\n",
       "Index: []"
      ]
     },
     "execution_count": 36,
     "metadata": {},
     "output_type": "execute_result"
    }
   ],
   "source": [
    "conj = data.isna().nunique().reset_index()\n",
    "conj.loc[conj[0]>1]"
   ]
  },
  {
   "cell_type": "markdown",
   "metadata": {},
   "source": [
    "Não há valores nulos"
   ]
  },
  {
   "cell_type": "code",
   "execution_count": 37,
   "metadata": {},
   "outputs": [
    {
     "data": {
      "text/plain": [
       "Index(['gender', 'lunch', 'test preparation course'], dtype='object', name='index')"
      ]
     },
     "execution_count": 37,
     "metadata": {},
     "output_type": "execute_result"
    }
   ],
   "source": [
    "subdata = data.nunique().reset_index()\n",
    "subdata = subdata.loc[subdata[0]==2]\n",
    "subdata.set_index('index').T.columns"
   ]
  },
  {
   "cell_type": "code",
   "execution_count": 38,
   "metadata": {},
   "outputs": [
    {
     "data": {
      "text/plain": [
       "Index(['race/ethnicity', 'parental level of education', 'math score',\n",
       "       'reading score', 'writing score'],\n",
       "      dtype='object', name='index')"
      ]
     },
     "execution_count": 38,
     "metadata": {},
     "output_type": "execute_result"
    }
   ],
   "source": [
    "subdata = data.nunique().reset_index()\n",
    "subdata = subdata.loc[subdata[0]>2]\n",
    "subdata.set_index('index').T.columns"
   ]
  },
  {
   "cell_type": "markdown",
   "metadata": {},
   "source": [
    "### Correlação"
   ]
  },
  {
   "cell_type": "code",
   "execution_count": 39,
   "metadata": {},
   "outputs": [],
   "source": [
    "from scipy.stats import chi2_contingency, pointbiserialr\n",
    "\n",
    "class Correlation:\n",
    "    M_ = None\n",
    "    \n",
    "    def __init__(self, column1:list, column2:list, data:pd.DataFrame):\n",
    "        self.columnNames1 = column1\n",
    "        self.columnNames2 = column2\n",
    "        self.data         = data\n",
    "        self.tupla        = ( len(self.columnNames1) , len(self.columnNames2) ) \n",
    "\n",
    "    def quiQuadrada(self):\n",
    "        self.M_ = np.zeros(shape=self.tupla)\n",
    "        \n",
    "        for enumI, i in enumerate(self.columnNames1):\n",
    "            for enumJ, j in enumerate(self.columnNames2):\n",
    "                chi, p, _, _ = chi2_contingency( pd.crosstab(self.data[i].values, self.data[j].values) )\n",
    "                self.M_[enumI,enumJ] = round(p,10)\n",
    "        \n",
    "        return pd.DataFrame(self.M_, columns=self.columnNames1, index=self.columnNames2)\n",
    "\n",
    "    def pointBisserl(self):\n",
    "        self.M_ = np.zeros(shape=self.tupla)\n",
    "        for enumI, i in enumerate(self.columnNames1):\n",
    "            for enumJ, j in enumerate(self.columnNames2):\n",
    "                corr, p_value = pointbiserialr(self.data[i].values, self.data[j].values)\n",
    "              \n",
    "                self.M_[enumI, enumJ] = corr\n",
    "        return pd.DataFrame(self.M_.T, columns=self.columnNames1, index=self.columnNames2)"
   ]
  },
  {
   "cell_type": "markdown",
   "metadata": {},
   "source": [
    "&nbsp;"
   ]
  },
  {
   "cell_type": "markdown",
   "metadata": {},
   "source": [
    "## Pré processamento"
   ]
  },
  {
   "cell_type": "code",
   "execution_count": 40,
   "metadata": {},
   "outputs": [],
   "source": [
    "from sklearn.base import TransformerMixin, BaseEstimator\n",
    "from sklearn.pipeline import Pipeline\n",
    "from sklearn.preprocessing import LabelEncoder, LabelBinarizer"
   ]
  },
  {
   "cell_type": "markdown",
   "metadata": {},
   "source": [
    "Transformação de atributos"
   ]
  },
  {
   "cell_type": "code",
   "execution_count": 41,
   "metadata": {},
   "outputs": [],
   "source": [
    "class TransformandoAtributosBin(BaseEstimator,TransformerMixin):\n",
    "    def __init__(self,columns:list|str):\n",
    "        self.columns = columns\n",
    "        \n",
    "    def fit(self,X,y=None):\n",
    "        return self\n",
    "    \n",
    "    def transform(self,X,y=None):\n",
    "        if (type(self.columns) == list):\n",
    "            for column in self.columns:\n",
    "                X[column] = LabelBinarizer().fit_transform(X[column])\n",
    "        else:\n",
    "            X[self.columns] = LabelBinarizer().fit_transform(X[self.columns].values)\n",
    "        return X"
   ]
  },
  {
   "cell_type": "code",
   "execution_count": 42,
   "metadata": {},
   "outputs": [],
   "source": [
    "class TransformandoAtributosEnc(BaseEstimator,TransformerMixin):\n",
    "    def __init__(self,columns:list|str):\n",
    "        self.columns = columns\n",
    "\n",
    "    def fit(self,X,y=None):\n",
    "        return self\n",
    "    \n",
    "    def transform(self,X,y=None):\n",
    "        if (type(self.columns) == list):\n",
    "            for column in self.columns:\n",
    "                X[column] = LabelBinarizer().fit_transform(X[column])\n",
    "        else:\n",
    "            X[self.columns] = LabelEncoder().fit_transform(X[self.columns].values)\n",
    "        return X"
   ]
  },
  {
   "cell_type": "code",
   "execution_count": 43,
   "metadata": {},
   "outputs": [],
   "source": [
    "class Dummies(BaseEstimator,TransformerMixin):\n",
    "    def __init__(self,columns:list | str) -> None:\n",
    "        self.columns = columns \n",
    "\n",
    "    def fit(self,X,y=None):\n",
    "        return self\n",
    "    \n",
    "    def transform(self, X:pd.DataFrame):\n",
    "        return pd.get_dummies(X,columns=self.columns,dtype=int)"
   ]
  },
  {
   "cell_type": "markdown",
   "metadata": {},
   "source": [
    "#### Pipeline"
   ]
  },
  {
   "cell_type": "code",
   "execution_count": 44,
   "metadata": {},
   "outputs": [],
   "source": [
    "pipeline = Pipeline(\n",
    "    steps=[\n",
    "        ('Binarizer',TransformandoAtributosBin(columns=['gender', 'lunch', 'test preparation course'])),\n",
    "        ('Encoder'  ,TransformandoAtributosEnc(columns=['race/ethnicity','parental level of education'])),\n",
    "        ('Dummies'  ,Dummies(columns=['race/ethnicity','parental level of education']))\n",
    "    ]\n",
    ")\n",
    "dataset = pipeline.fit_transform(data)"
   ]
  },
  {
   "cell_type": "code",
   "execution_count": 45,
   "metadata": {},
   "outputs": [
    {
     "data": {
      "text/html": [
       "<div>\n",
       "<style scoped>\n",
       "    .dataframe tbody tr th:only-of-type {\n",
       "        vertical-align: middle;\n",
       "    }\n",
       "\n",
       "    .dataframe tbody tr th {\n",
       "        vertical-align: top;\n",
       "    }\n",
       "\n",
       "    .dataframe thead th {\n",
       "        text-align: right;\n",
       "    }\n",
       "</style>\n",
       "<table border=\"1\" class=\"dataframe\">\n",
       "  <thead>\n",
       "    <tr style=\"text-align: right;\">\n",
       "      <th></th>\n",
       "      <th>math score</th>\n",
       "      <th>reading score</th>\n",
       "      <th>writing score</th>\n",
       "    </tr>\n",
       "  </thead>\n",
       "  <tbody>\n",
       "    <tr>\n",
       "      <th>math score</th>\n",
       "      <td>1.000000</td>\n",
       "      <td>0.817580</td>\n",
       "      <td>0.802642</td>\n",
       "    </tr>\n",
       "    <tr>\n",
       "      <th>reading score</th>\n",
       "      <td>0.817580</td>\n",
       "      <td>1.000000</td>\n",
       "      <td>0.954598</td>\n",
       "    </tr>\n",
       "    <tr>\n",
       "      <th>writing score</th>\n",
       "      <td>0.802642</td>\n",
       "      <td>0.954598</td>\n",
       "      <td>1.000000</td>\n",
       "    </tr>\n",
       "  </tbody>\n",
       "</table>\n",
       "</div>"
      ],
      "text/plain": [
       "               math score  reading score  writing score\n",
       "math score       1.000000       0.817580       0.802642\n",
       "reading score    0.817580       1.000000       0.954598\n",
       "writing score    0.802642       0.954598       1.000000"
      ]
     },
     "execution_count": 45,
     "metadata": {},
     "output_type": "execute_result"
    }
   ],
   "source": [
    "num = ['math score','reading score', 'writing score']\n",
    "data[num].corr()"
   ]
  },
  {
   "cell_type": "code",
   "execution_count": 58,
   "metadata": {},
   "outputs": [
    {
     "data": {
      "text/html": [
       "<div>\n",
       "<style scoped>\n",
       "    .dataframe tbody tr th:only-of-type {\n",
       "        vertical-align: middle;\n",
       "    }\n",
       "\n",
       "    .dataframe tbody tr th {\n",
       "        vertical-align: top;\n",
       "    }\n",
       "\n",
       "    .dataframe thead th {\n",
       "        text-align: right;\n",
       "    }\n",
       "</style>\n",
       "<table border=\"1\" class=\"dataframe\">\n",
       "  <thead>\n",
       "    <tr style=\"text-align: right;\">\n",
       "      <th></th>\n",
       "      <th>math score</th>\n",
       "      <th>reading score</th>\n",
       "      <th>writing score</th>\n",
       "    </tr>\n",
       "  </thead>\n",
       "  <tbody>\n",
       "    <tr>\n",
       "      <th>count</th>\n",
       "      <td>1000.00000</td>\n",
       "      <td>1000.000000</td>\n",
       "      <td>1000.000000</td>\n",
       "    </tr>\n",
       "    <tr>\n",
       "      <th>mean</th>\n",
       "      <td>66.08900</td>\n",
       "      <td>69.169000</td>\n",
       "      <td>68.054000</td>\n",
       "    </tr>\n",
       "    <tr>\n",
       "      <th>std</th>\n",
       "      <td>15.16308</td>\n",
       "      <td>14.600192</td>\n",
       "      <td>15.195657</td>\n",
       "    </tr>\n",
       "    <tr>\n",
       "      <th>min</th>\n",
       "      <td>0.00000</td>\n",
       "      <td>17.000000</td>\n",
       "      <td>10.000000</td>\n",
       "    </tr>\n",
       "    <tr>\n",
       "      <th>25%</th>\n",
       "      <td>57.00000</td>\n",
       "      <td>59.000000</td>\n",
       "      <td>57.750000</td>\n",
       "    </tr>\n",
       "    <tr>\n",
       "      <th>50%</th>\n",
       "      <td>66.00000</td>\n",
       "      <td>70.000000</td>\n",
       "      <td>69.000000</td>\n",
       "    </tr>\n",
       "    <tr>\n",
       "      <th>75%</th>\n",
       "      <td>77.00000</td>\n",
       "      <td>79.000000</td>\n",
       "      <td>79.000000</td>\n",
       "    </tr>\n",
       "    <tr>\n",
       "      <th>max</th>\n",
       "      <td>100.00000</td>\n",
       "      <td>100.000000</td>\n",
       "      <td>100.000000</td>\n",
       "    </tr>\n",
       "  </tbody>\n",
       "</table>\n",
       "</div>"
      ],
      "text/plain": [
       "       math score  reading score  writing score\n",
       "count  1000.00000    1000.000000    1000.000000\n",
       "mean     66.08900      69.169000      68.054000\n",
       "std      15.16308      14.600192      15.195657\n",
       "min       0.00000      17.000000      10.000000\n",
       "25%      57.00000      59.000000      57.750000\n",
       "50%      66.00000      70.000000      69.000000\n",
       "75%      77.00000      79.000000      79.000000\n",
       "max     100.00000     100.000000     100.000000"
      ]
     },
     "execution_count": 58,
     "metadata": {},
     "output_type": "execute_result"
    }
   ],
   "source": [
    "data[num].describe()"
   ]
  },
  {
   "cell_type": "markdown",
   "metadata": {},
   "source": [
    "## Rede Neural"
   ]
  },
  {
   "cell_type": "code",
   "execution_count": 46,
   "metadata": {},
   "outputs": [],
   "source": [
    "from sklearn.model_selection import train_test_split"
   ]
  },
  {
   "cell_type": "code",
   "execution_count": 47,
   "metadata": {},
   "outputs": [],
   "source": [
    "X = dataset.drop(columns=['math score','reading score','writing score'])\n",
    "y = dataset[['math score','reading score','writing score']]"
   ]
  },
  {
   "cell_type": "code",
   "execution_count": 48,
   "metadata": {},
   "outputs": [
    {
     "data": {
      "text/plain": [
       "gender                          2\n",
       "race/ethnicity                  2\n",
       "parental level of education     2\n",
       "lunch                           2\n",
       "test preparation course         2\n",
       "math score                     81\n",
       "reading score                  72\n",
       "writing score                  77\n",
       "dtype: int64"
      ]
     },
     "execution_count": 48,
     "metadata": {},
     "output_type": "execute_result"
    }
   ],
   "source": [
    "data.nunique()"
   ]
  },
  {
   "cell_type": "code",
   "execution_count": 49,
   "metadata": {},
   "outputs": [],
   "source": [
    "xtrain, xtest, ytrain, ytest = train_test_split(X, y, random_state=42, test_size=0.25)"
   ]
  },
  {
   "cell_type": "code",
   "execution_count": 50,
   "metadata": {},
   "outputs": [],
   "source": [
    "ytrainM ,ytrainR, ytrainW = (\n",
    "    ytrain['math score'].values,\n",
    "    ytrain['reading score'].values,\n",
    "    ytrain['writing score'].values\n",
    ")\n",
    "\n",
    "ytestM ,ytestR, ytestW = (\n",
    "    ytest['math score'].values,\n",
    "    ytest['reading score'].values,\n",
    "    ytest['writing score'].values\n",
    ")"
   ]
  },
  {
   "cell_type": "code",
   "execution_count": 51,
   "metadata": {},
   "outputs": [
    {
     "data": {
      "text/plain": [
       "(750, 7)"
      ]
     },
     "execution_count": 51,
     "metadata": {},
     "output_type": "execute_result"
    }
   ],
   "source": [
    "xtrain.shape"
   ]
  },
  {
   "cell_type": "code",
   "execution_count": 52,
   "metadata": {},
   "outputs": [],
   "source": [
    "import keras\n",
    "import tensorflow as tf"
   ]
  },
  {
   "cell_type": "code",
   "execution_count": 53,
   "metadata": {},
   "outputs": [],
   "source": [
    "input_ = keras.layers.Input(shape=xtrain.shape[1:])\n",
    "\n",
    "oculta1 = keras.layers.Dense(30, activation='relu', name='camadaOculta_1')(input_)\n",
    "oculta2 = keras.layers.Dense(15, activation='relu', name='camadaOculta_2')(oculta1)\n",
    "\n",
    "concat  = keras.layers.concatenate([input_,oculta2], name='concat')\n",
    "\n",
    "output1 = keras.layers.Dense(1)(concat)\n",
    "output2 = keras.layers.Dense(1)(oculta2)\n",
    "output3 = keras.layers.Dense(1)(oculta2)\n",
    "\n",
    "model = keras.Model(inputs=[input_],outputs=[output1, output2, output3])"
   ]
  },
  {
   "cell_type": "code",
   "execution_count": 65,
   "metadata": {},
   "outputs": [
    {
     "name": "stdout",
     "output_type": "stream",
     "text": [
      "Model: \"model_1\"\n",
      "__________________________________________________________________________________________________\n",
      " Layer (type)                Output Shape                 Param #   Connected to                  \n",
      "==================================================================================================\n",
      " input_2 (InputLayer)        [(None, 7)]                  0         []                            \n",
      "                                                                                                  \n",
      " camadaOculta_1 (Dense)      (None, 30)                   240       ['input_2[0][0]']             \n",
      "                                                                                                  \n",
      " camadaOculta_2 (Dense)      (None, 15)                   465       ['camadaOculta_1[0][0]']      \n",
      "                                                                                                  \n",
      " concat (Concatenate)        (None, 22)                   0         ['input_2[0][0]',             \n",
      "                                                                     'camadaOculta_2[0][0]']      \n",
      "                                                                                                  \n",
      " dense_3 (Dense)             (None, 1)                    23        ['concat[0][0]']              \n",
      "                                                                                                  \n",
      " dense_4 (Dense)             (None, 1)                    16        ['camadaOculta_2[0][0]']      \n",
      "                                                                                                  \n",
      " dense_5 (Dense)             (None, 1)                    16        ['camadaOculta_2[0][0]']      \n",
      "                                                                                                  \n",
      "==================================================================================================\n",
      "Total params: 760 (2.97 KB)\n",
      "Trainable params: 760 (2.97 KB)\n",
      "Non-trainable params: 0 (0.00 Byte)\n",
      "__________________________________________________________________________________________________\n"
     ]
    }
   ],
   "source": [
    "tf.keras.utils.plot_model(\n",
    "    model,\n",
    "    to_file='NeuralNetworkPlot/modelStudents.png',\n",
    "    show_shapes=False,\n",
    "    show_dtype=False,\n",
    "    show_layer_names=True,\n",
    "    rankdir='TB',\n",
    "    expand_nested=False,\n",
    "    dpi=96,\n",
    "    layer_range=None,\n",
    "    show_layer_activations=True,\n",
    "    show_trainable=False\n",
    ")\n",
    "model.summary()"
   ]
  },
  {
   "cell_type": "code",
   "execution_count": 62,
   "metadata": {},
   "outputs": [
    {
     "name": "stdout",
     "output_type": "stream",
     "text": [
      "Epoch 1/30\n",
      "75/75 [==============================] - 1s 2ms/step - loss: 35.6753 - dense_3_loss: 12.1393 - dense_4_loss: 11.9037 - dense_5_loss: 11.6323\n",
      "Epoch 2/30\n",
      "75/75 [==============================] - 0s 2ms/step - loss: 37.4103 - dense_3_loss: 12.7901 - dense_4_loss: 12.4549 - dense_5_loss: 12.1653\n",
      "Epoch 3/30\n",
      "75/75 [==============================] - 0s 2ms/step - loss: 33.2943 - dense_3_loss: 11.2692 - dense_4_loss: 11.2207 - dense_5_loss: 10.8044\n",
      "Epoch 4/30\n",
      "75/75 [==============================] - 0s 2ms/step - loss: 34.0788 - dense_3_loss: 11.5479 - dense_4_loss: 11.3730 - dense_5_loss: 11.1579\n",
      "Epoch 5/30\n",
      "75/75 [==============================] - 0s 2ms/step - loss: 36.8997 - dense_3_loss: 12.4635 - dense_4_loss: 12.2045 - dense_5_loss: 12.2318\n",
      "Epoch 6/30\n",
      "75/75 [==============================] - 0s 2ms/step - loss: 34.7674 - dense_3_loss: 11.7757 - dense_4_loss: 11.5591 - dense_5_loss: 11.4326\n",
      "Epoch 7/30\n",
      "75/75 [==============================] - 0s 2ms/step - loss: 35.3155 - dense_3_loss: 12.1009 - dense_4_loss: 11.7031 - dense_5_loss: 11.5114\n",
      "Epoch 8/30\n",
      "75/75 [==============================] - 0s 2ms/step - loss: 37.5766 - dense_3_loss: 12.6784 - dense_4_loss: 12.5292 - dense_5_loss: 12.3690\n",
      "Epoch 9/30\n",
      "75/75 [==============================] - 0s 2ms/step - loss: 36.0950 - dense_3_loss: 12.2810 - dense_4_loss: 12.0490 - dense_5_loss: 11.7651\n",
      "Epoch 10/30\n",
      "75/75 [==============================] - 0s 2ms/step - loss: 35.1414 - dense_3_loss: 11.9636 - dense_4_loss: 11.6982 - dense_5_loss: 11.4797\n",
      "Epoch 11/30\n",
      "75/75 [==============================] - 0s 4ms/step - loss: 35.2998 - dense_3_loss: 11.8823 - dense_4_loss: 11.7651 - dense_5_loss: 11.6523\n",
      "Epoch 12/30\n",
      "75/75 [==============================] - 0s 4ms/step - loss: 34.7014 - dense_3_loss: 11.5590 - dense_4_loss: 11.7189 - dense_5_loss: 11.4235\n",
      "Epoch 13/30\n",
      "75/75 [==============================] - 0s 4ms/step - loss: 34.3168 - dense_3_loss: 11.6520 - dense_4_loss: 11.4277 - dense_5_loss: 11.2370\n",
      "Epoch 14/30\n",
      "75/75 [==============================] - 0s 2ms/step - loss: 34.9132 - dense_3_loss: 11.9184 - dense_4_loss: 11.5810 - dense_5_loss: 11.4138\n",
      "Epoch 15/30\n",
      "75/75 [==============================] - 0s 2ms/step - loss: 36.3392 - dense_3_loss: 12.3801 - dense_4_loss: 12.0250 - dense_5_loss: 11.9341\n",
      "Epoch 16/30\n",
      "75/75 [==============================] - 0s 2ms/step - loss: 34.4514 - dense_3_loss: 11.5886 - dense_4_loss: 11.4998 - dense_5_loss: 11.3629\n",
      "Epoch 17/30\n",
      "75/75 [==============================] - 0s 2ms/step - loss: 34.8423 - dense_3_loss: 11.9023 - dense_4_loss: 11.5234 - dense_5_loss: 11.4166\n",
      "Epoch 18/30\n",
      "75/75 [==============================] - 0s 2ms/step - loss: 35.4558 - dense_3_loss: 12.1317 - dense_4_loss: 11.7488 - dense_5_loss: 11.5753\n",
      "Epoch 19/30\n",
      "75/75 [==============================] - 0s 2ms/step - loss: 35.4066 - dense_3_loss: 11.8868 - dense_4_loss: 11.8633 - dense_5_loss: 11.6565\n",
      "Epoch 20/30\n",
      "75/75 [==============================] - 0s 3ms/step - loss: 34.0835 - dense_3_loss: 11.5590 - dense_4_loss: 11.2639 - dense_5_loss: 11.2606\n",
      "Epoch 21/30\n",
      "75/75 [==============================] - 0s 2ms/step - loss: 35.3855 - dense_3_loss: 12.0275 - dense_4_loss: 11.9262 - dense_5_loss: 11.4318\n",
      "Epoch 22/30\n",
      "75/75 [==============================] - 0s 2ms/step - loss: 34.1523 - dense_3_loss: 11.6180 - dense_4_loss: 11.3000 - dense_5_loss: 11.2343\n",
      "Epoch 23/30\n",
      "75/75 [==============================] - 0s 2ms/step - loss: 35.3552 - dense_3_loss: 12.0672 - dense_4_loss: 11.6535 - dense_5_loss: 11.6345\n",
      "Epoch 24/30\n",
      "75/75 [==============================] - 0s 3ms/step - loss: 35.1975 - dense_3_loss: 12.1310 - dense_4_loss: 11.6072 - dense_5_loss: 11.4592\n",
      "Epoch 25/30\n",
      "75/75 [==============================] - 0s 2ms/step - loss: 34.3508 - dense_3_loss: 11.8383 - dense_4_loss: 11.2903 - dense_5_loss: 11.2223\n",
      "Epoch 26/30\n",
      "75/75 [==============================] - 0s 2ms/step - loss: 34.4019 - dense_3_loss: 11.6350 - dense_4_loss: 11.5628 - dense_5_loss: 11.2041\n",
      "Epoch 27/30\n",
      "75/75 [==============================] - 0s 2ms/step - loss: 35.0422 - dense_3_loss: 11.8963 - dense_4_loss: 11.7143 - dense_5_loss: 11.4316\n",
      "Epoch 28/30\n",
      "75/75 [==============================] - 0s 2ms/step - loss: 35.3750 - dense_3_loss: 12.0328 - dense_4_loss: 11.6974 - dense_5_loss: 11.6448\n",
      "Epoch 29/30\n",
      "75/75 [==============================] - 0s 2ms/step - loss: 35.0519 - dense_3_loss: 11.8721 - dense_4_loss: 11.6869 - dense_5_loss: 11.4928\n",
      "Epoch 30/30\n",
      "75/75 [==============================] - 0s 2ms/step - loss: 34.6461 - dense_3_loss: 11.6362 - dense_4_loss: 11.6480 - dense_5_loss: 11.3619\n"
     ]
    }
   ],
   "source": [
    "model.compile(\n",
    "    loss = [\n",
    "        keras.losses.mean_absolute_error,\n",
    "        keras.losses.mean_absolute_error,\n",
    "        keras.losses.mean_absolute_error\n",
    "    ],\n",
    "    optimizer = keras.optimizers.SGD()\n",
    ")\n",
    "history = model.fit(\n",
    "    xtrain, (ytrainM ,ytrainR ,ytrainW ), epochs=30, batch_size=10\n",
    ")"
   ]
  },
  {
   "cell_type": "code",
   "execution_count": 63,
   "metadata": {},
   "outputs": [
    {
     "name": "stdout",
     "output_type": "stream",
     "text": [
      "8/8 [==============================] - 0s 2ms/step\n"
     ]
    }
   ],
   "source": [
    "p1, p2, p3 = model.predict(xtest)"
   ]
  },
  {
   "cell_type": "code",
   "execution_count": 64,
   "metadata": {},
   "outputs": [
    {
     "data": {
      "text/plain": [
       "(11.668461151123047, 11.934859130859374)"
      ]
     },
     "execution_count": 64,
     "metadata": {},
     "output_type": "execute_result"
    }
   ],
   "source": [
    "mean_absolute_error(p1,ytestM), mean_absolute_error(p2,ytestR)"
   ]
  },
  {
   "cell_type": "code",
   "execution_count": null,
   "metadata": {},
   "outputs": [],
   "source": []
  }
 ],
 "metadata": {
  "kernelspec": {
   "display_name": "venvGlobal",
   "language": "python",
   "name": "python3"
  },
  "language_info": {
   "codemirror_mode": {
    "name": "ipython",
    "version": 3
   },
   "file_extension": ".py",
   "mimetype": "text/x-python",
   "name": "python",
   "nbconvert_exporter": "python",
   "pygments_lexer": "ipython3",
   "version": "3.11.8"
  }
 },
 "nbformat": 4,
 "nbformat_minor": 2
}
