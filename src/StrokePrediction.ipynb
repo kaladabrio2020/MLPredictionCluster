{
 "cells": [
  {
   "cell_type": "markdown",
   "metadata": {},
   "source": [
    "### Informações sobre atributos:\n",
    "1) __id__: identificador único\n",
    "2) __gênero__: \"Masculino\", \"Feminino\" ou \"Outro\"\n",
    "3) __idade__: idade do paciente\n",
    "4) __hipertensão__: 0 se o paciente não tiver hipertensão, 1 se o paciente tiver hipertensão\n",
    "5) __doença cardíaca__: 0 se o paciente não tiver doença cardíaca, 1 se o paciente tiver doença cardíaca\n",
    "6) __já casado__: \"Não\" ou \"Sim\"\n",
    "7) __tipo de trabalho__: \"crianças\"(`children`), \"Funcionário público\"(`Govt_jov`), \"Nunca trabalhou\"(`Never_worked`), \"Privado\"(`Private`) ou \"Autônomo\"(`Self-employed`)\n",
    "8) __tipo de residência__: \"Rural\" ou \"Urbana\"\n",
    "9) __nível médio de glicose__: nível médio de glicose no sangue\n",
    "10) __IMC__: índice de massa corporal\n",
    "11) __status de tabagismo__: \"ex-fumante\"(`formerly smoked`), \"nunca fumou\"(`formerly smoked`), \"fuma\"(`smokes`) ou \"Desconhecido\"(`Unknown`)\n",
    "12) __AVC__: 1 se o paciente teve um AVC ou 0 se não teve"
   ]
  },
  {
   "cell_type": "code",
   "execution_count": null,
   "metadata": {},
   "outputs": [],
   "source": [
    "import copy \n",
    "import scipy\n",
    "import warnings\n",
    "import pandas as pd\n",
    "import numpy as np\n",
    "import seaborn as sea \n",
    "import matplotlib.pyplot as plt\n",
    "import matplotlib.patches as mpatches"
   ]
  },
  {
   "cell_type": "code",
   "execution_count": null,
   "metadata": {},
   "outputs": [],
   "source": [
    "warnings.filterwarnings('ignore',category=FutureWarning)"
   ]
  },
  {
   "cell_type": "code",
   "execution_count": null,
   "metadata": {},
   "outputs": [],
   "source": [
    "data = pd.read_csv(r'datasets/StrokePredictionDataset/healthcare-dataset-stroke-data.csv',sep=',')"
   ]
  },
  {
   "cell_type": "code",
   "execution_count": null,
   "metadata": {},
   "outputs": [],
   "source": [
    "data.head(4)"
   ]
  },
  {
   "cell_type": "markdown",
   "metadata": {},
   "source": [
    "## Analise dos dados"
   ]
  },
  {
   "cell_type": "code",
   "execution_count": null,
   "metadata": {},
   "outputs": [],
   "source": [
    "data.describe()"
   ]
  },
  {
   "cell_type": "markdown",
   "metadata": {},
   "source": [
    "> Nesse conjunto de daddos para valores númericos continuos irei fazer a padronização dos dados"
   ]
  },
  {
   "cell_type": "code",
   "execution_count": null,
   "metadata": {},
   "outputs": [],
   "source": [
    "data.nunique()"
   ]
  },
  {
   "cell_type": "markdown",
   "metadata": {},
   "source": [
    "> quantidade de valores unicos de cada atributo"
   ]
  },
  {
   "cell_type": "code",
   "execution_count": null,
   "metadata": {},
   "outputs": [],
   "source": [
    "valoresNulos = (pd.concat([data.isna().nunique(),data.isnull().nunique()] ,axis=1))\n",
    "valoresNulos.columns = ['NaN','NULL']\n",
    "valoresNulos"
   ]
  },
  {
   "cell_type": "code",
   "execution_count": null,
   "metadata": {},
   "outputs": [],
   "source": [
    "data.loc[data['bmi'].isna()==True]['stroke'].value_counts()"
   ]
  },
  {
   "cell_type": "code",
   "execution_count": null,
   "metadata": {},
   "outputs": [],
   "source": [
    "data.drop(index = data.loc[data['bmi'].isna()==True].index , inplace=True)"
   ]
  },
  {
   "cell_type": "markdown",
   "metadata": {},
   "source": [
    "> Será removido para a analises depois decido oq fazer com esses valores nulos"
   ]
  },
  {
   "cell_type": "code",
   "execution_count": null,
   "metadata": {},
   "outputs": [],
   "source": [
    "pizza = data['stroke'].value_counts()\n",
    "\n",
    "plt.figure(figsize=(6,4),facecolor='#FAFAD2')\n",
    "plt.pie(x=pizza.values , labels= ['Não teve AVC','Teve AVC'] , autopct = lambda x:'{:.2f}({:.0f})'.format(x,((x*pizza.sum())/100)) , colors=sea.color_palette('coolwarm',n_colors=2),shadow=True,explode=(0,0.045),pctdistance=0.6)\n",
    "plt.title('Proporção dos dados')\n",
    "plt.show()"
   ]
  },
  {
   "cell_type": "markdown",
   "metadata": {},
   "source": [
    "> No preprocessamento dos dados para a classificação se faz necessario o balanceamento dos dados , a mais valores para pessoas que não teve Avc para as que tiveram"
   ]
  },
  {
   "cell_type": "code",
   "execution_count": null,
   "metadata": {},
   "outputs": [],
   "source": [
    "sea.boxplot( data[['bmi','age','avg_glucose_level','stroke']])\n",
    "plt.grid(True)\n",
    "plt.show()"
   ]
  },
  {
   "cell_type": "code",
   "execution_count": null,
   "metadata": {},
   "outputs": [],
   "source": [
    "fig , ax = plt.subplots(1,3)\n",
    "fig.set_figwidth(15)\n",
    "colors   = sea.color_palette('dark:salmon_r',n_colors=3)\n",
    "index    = 0\n",
    "for coluna in ['bmi','age','avg_glucose_level']:\n",
    "    sea.histplot(data[coluna], ax=ax[index] ,color=colors[index] , kde=True); index +=1\n",
    "plt.show()"
   ]
  },
  {
   "cell_type": "markdown",
   "metadata": {},
   "source": [
    "> Há outlier"
   ]
  },
  {
   "cell_type": "code",
   "execution_count": null,
   "metadata": {},
   "outputs": [],
   "source": [
    "labels = ['Baixo peso','Peso ideal','Sobrepeso','Obesidade 1','Obesidade 2(sévera)','Obesidade 3(mórbida)']\n",
    "bins   = [min(data['bmi']),18.5,24.9,29.9,34.9,39.9,max(data['bmi']) ]\n",
    "freq  = pd.cut(x = data['bmi'] , bins=bins ,labels=labels)\n",
    "hist  = pd.concat([freq,data[['stroke']]],axis=1)\n",
    "hist  = hist.groupby(by=['bmi'])['stroke'].value_counts().reset_index()"
   ]
  },
  {
   "cell_type": "code",
   "execution_count": null,
   "metadata": {},
   "outputs": [],
   "source": [
    "fig ,ax = plt.subplots(1,1)\n",
    "fig.set_figwidth(12)\n",
    "fig.set_figheight(6)\n",
    "\n",
    "colors  = ['#6495ED','#DC143C'] \n",
    "bar = sea.barplot(x = hist['bmi'] ,y=hist['count'],hue=hist['stroke'],palette=colors ,ax=ax)\n",
    "bar.bar_label( bar.containers[0] )\n",
    "bar.bar_label( bar.containers[1] )\n",
    "\n",
    "ax.set_ylabel('Quantidade')\n",
    "ax.set_xlabel('Tipo de peso corporal')\n",
    "ax.spines[['top','left']].set_visible(False)\n",
    "legends = []\n",
    "for value, color in zip(['Não teve','Teve'], colors): legends.append(mpatches.Patch(color=color, label=value))\n",
    "\n",
    "ax.legend(title='Avc',handles=legends,bbox_to_anchor=(1,0.8,0,0))\n",
    "plt.grid(True)\n",
    "plt.show()"
   ]
  },
  {
   "cell_type": "code",
   "execution_count": null,
   "metadata": {},
   "outputs": [],
   "source": [
    "pizza = freq.value_counts()\n",
    "\n",
    "plt.figure(figsize=(8,5),facecolor='#FAFAD2')\n",
    "plt.pie(x=pizza.values , labels= pizza.index , autopct = lambda x:'{:.2f}({:.0f})'.format(x,((x*pizza.sum())/100)) , colors=sea.color_palette('coolwarm',n_colors=6),shadow=True,pctdistance=0.69,explode=(0,0,0,0.03,0.05,0.06))\n",
    "plt.title('Proporção dos dados')\n",
    "plt.show()"
   ]
  },
  {
   "cell_type": "code",
   "execution_count": null,
   "metadata": {},
   "outputs": [],
   "source": [
    "data['gender'].value_counts().reset_index()"
   ]
  },
  {
   "cell_type": "code",
   "execution_count": null,
   "metadata": {},
   "outputs": [],
   "source": [
    "data.drop( index = data.loc[data['gender']=='Other'].index , inplace=True)"
   ]
  },
  {
   "cell_type": "markdown",
   "metadata": {},
   "source": [
    "> No atributo `gender` o valores other só aparece uma vez , será removido"
   ]
  },
  {
   "cell_type": "code",
   "execution_count": null,
   "metadata": {},
   "outputs": [],
   "source": [
    "pizza = data['gender'].value_counts()\n",
    "\n",
    "plt.figure(figsize=(6,4))\n",
    "plt.pie(x = pizza.values , labels = pizza.index , explode=(0,0.04),autopct=lambda x: '{:.2f}({:.0f})'.format(x,((x*sum(pizza.values))/100)) , shadow=True)\n",
    "plt.title('Proporção de valores do atributo gender')\n",
    "plt.show()"
   ]
  },
  {
   "cell_type": "code",
   "execution_count": null,
   "metadata": {},
   "outputs": [],
   "source": [
    "resultado = data.groupby(by=['gender','stroke'])['age'].mean().reset_index()\n",
    "\n",
    "fig , ax = plt.subplots(1,1)\n",
    "fig.set_figwidth(8)\n",
    "fig.set_figheight(6)\n",
    "\n",
    "bar = sea.barplot(x = resultado['stroke'] , y=resultado['age'] ,hue = resultado['gender'],palette=sea.color_palette('pastel')[0:2][::-1],width=0.5,ax=ax)\n",
    "bar.bar_label(bar.containers[0], fontsize=10)\n",
    "bar.bar_label(bar.containers[1], fontsize=10)\n",
    "\n",
    "ax.set_axisbelow(True)\n",
    "ax.grid(axis='y')\n",
    "ax.spines[['right','top','left']].set_visible(False)\n",
    "plt.legend(title='Gênero')\n",
    "plt.title('Média de idade dos gêneros que teve ou não avc',y=1.029)\n",
    "plt.xticks([0,1],['Não teve','Teve'])\n",
    "plt.ylabel('Média de idade')\n",
    "plt.xlabel('AVC')\n",
    "\n",
    "plt.show()"
   ]
  },
  {
   "cell_type": "code",
   "execution_count": null,
   "metadata": {},
   "outputs": [],
   "source": [
    "labels = ['Baixo peso','Peso ideal','Sobrepeso','Obesidade 1','Obesidade 2(sévera)','Obesidade 3(mórbida)']\n",
    "bins   = [min(data['bmi']),18.5,24.9,29.9,34.9,39.9,max(data['bmi']) ]\n",
    "\n",
    "freq  = pd.cut(x = data['bmi'] , bins=bins ,labels=labels)\n",
    "\n",
    "resultado = pd.concat([freq,data[['work_type','stroke']]],axis=1)"
   ]
  },
  {
   "cell_type": "code",
   "execution_count": null,
   "metadata": {},
   "outputs": [],
   "source": [
    "gropbyresultado = resultado.groupby(by=['work_type'])['bmi'].value_counts().reset_index()"
   ]
  },
  {
   "cell_type": "code",
   "execution_count": null,
   "metadata": {},
   "outputs": [],
   "source": [
    "gropbyresultado"
   ]
  },
  {
   "cell_type": "code",
   "execution_count": null,
   "metadata": {},
   "outputs": [],
   "source": [
    "\n",
    "sea.set_theme(style=\"whitegrid\")\n",
    "fig , ax = plt.subplots(1,1)\n",
    "fig.set_figwidth(12)\n",
    "fig.set_figheight(8)\n",
    "\n",
    "palette = sea.color_palette(\"muted\",n_colors=4)\n",
    "bar = sea.barplot(x=gropbyresultado['count'],y=gropbyresultado['work_type'],hue=gropbyresultado['bmi'],palette=palette,ax=ax)\n",
    "for p in bar.patches:\n",
    "    if p.get_width() != 0:\n",
    "        bar.annotate(\"%.0f\" % p.get_width(),  xy = (p.get_width(), p.get_y()+p.get_height()/2), \n",
    "        xytext = (0, 0.3), textcoords= 'offset points', ha = 'left', va = \"center\" ,size=10)\n",
    "ax.spines[['right','top','bottom']].set_visible(False)\n",
    "ax.set_ylabel('Tipo de trabalho')\n",
    "ax.set_xticks([])\n",
    "ax.set_xlabel('')\n",
    "ax.set_axisbelow(True)\n",
    "ax.grid(True)\n",
    "ax.set_title('Tipo de trabalho e a quantidade pessoas que tem um determinado tipo de peso',y=1.029)\n",
    "ax.legend().set_title('Tipo de peso')\n",
    "plt.show()"
   ]
  },
  {
   "cell_type": "code",
   "execution_count": null,
   "metadata": {},
   "outputs": [],
   "source": [
    "resultado = pd.concat([data['gender'],freq],axis=1)\n",
    "resultado = resultado.groupby(by='bmi')['gender'].value_counts().reset_index()"
   ]
  },
  {
   "cell_type": "code",
   "execution_count": null,
   "metadata": {},
   "outputs": [],
   "source": [
    "plt.figure(figsize=(13,6))\n",
    "sea.set_theme(style='whitegrid')\n",
    "bar = sea.barplot(x = resultado['bmi'],y=resultado['count'],hue=resultado['gender'],palette=sea.color_palette('pastel',n_colors=2)[::-1])\n",
    "bar.bar_label(bar.containers[0])\n",
    "bar.bar_label(bar.containers[1])\n",
    "plt.ylabel('Quantidade')\n",
    "plt.xlabel('Tipo de peso corporal')\n",
    "plt.show()"
   ]
  },
  {
   "cell_type": "code",
   "execution_count": null,
   "metadata": {},
   "outputs": [],
   "source": [
    "densidade = data[['avg_glucose_level','bmi','stroke']]\n",
    "\n",
    "fig , ax = plt.subplots(1,2)\n",
    "fig.set_figwidth(10)\n",
    "fig.set_figheight(5)\n",
    "\n",
    "fig.subplots_adjust(wspace=0.5)\n",
    "sea.violinplot(x = densidade['stroke'],y = densidade['avg_glucose_level'] ,ax=ax[0])\n",
    "sea.violinplot(x = densidade['stroke'],y = densidade['bmi'],ax=ax[1])\n",
    "plt.title('Distribuição dos dados')\n",
    "plt.show()"
   ]
  },
  {
   "cell_type": "code",
   "execution_count": null,
   "metadata": {},
   "outputs": [],
   "source": [
    "sea.pairplot(data,hue='stroke')\n",
    "plt.show()"
   ]
  },
  {
   "cell_type": "markdown",
   "metadata": {},
   "source": [
    "&nbsp;"
   ]
  },
  {
   "cell_type": "markdown",
   "metadata": {},
   "source": [
    "&nbsp;"
   ]
  },
  {
   "cell_type": "markdown",
   "metadata": {},
   "source": [
    "# Pré-processamento"
   ]
  },
  {
   "cell_type": "code",
   "execution_count": null,
   "metadata": {},
   "outputs": [],
   "source": [
    "from sklearn.preprocessing   import LabelBinarizer,StandardScaler,MinMaxScaler,LabelEncoder\n",
    "from imblearn.under_sampling import RandomUnderSampler\n",
    "from imblearn.over_sampling  import RandomOverSampler\n",
    "from sklearn.metrics.pairwise import paired_distances\n",
    "from sklearn.impute import SimpleImputer"
   ]
  },
  {
   "cell_type": "code",
   "execution_count": null,
   "metadata": {},
   "outputs": [],
   "source": [
    "dataset = pd.read_csv(r'datasets/StrokePredictionDataset/healthcare-dataset-stroke-data.csv')"
   ]
  },
  {
   "cell_type": "code",
   "execution_count": null,
   "metadata": {},
   "outputs": [],
   "source": [
    "dataset.head(3)"
   ]
  },
  {
   "cell_type": "markdown",
   "metadata": {},
   "source": [
    "### Transformação de dados"
   ]
  },
  {
   "cell_type": "code",
   "execution_count": null,
   "metadata": {},
   "outputs": [],
   "source": [
    "classGender  = LabelBinarizer()\n",
    "classMaried  = LabelBinarizer()\n",
    "classResidence = LabelBinarizer()\n",
    "\n",
    "dataset['gender']       = classGender.fit_transform(dataset['gender'])\n",
    "dataset['ever_married'] = classMaried.fit_transform(dataset['ever_married'])\n",
    "dataset['Residence_type'] = classResidence.fit_transform(dataset['Residence_type'])"
   ]
  },
  {
   "cell_type": "code",
   "execution_count": null,
   "metadata": {},
   "outputs": [],
   "source": [
    "dataset = pd.get_dummies(dataset,columns=['smoking_status','work_type'],dtype=int)"
   ]
  },
  {
   "cell_type": "code",
   "execution_count": null,
   "metadata": {},
   "outputs": [],
   "source": [
    "dataset.head(3)"
   ]
  },
  {
   "cell_type": "markdown",
   "metadata": {},
   "source": [
    "### Limpeza de dados"
   ]
  },
  {
   "cell_type": "markdown",
   "metadata": {},
   "source": [
    "Removendo o valor other do atributo gender"
   ]
  },
  {
   "cell_type": "code",
   "execution_count": null,
   "metadata": {},
   "outputs": [],
   "source": [
    "dataset.drop( index = dataset.loc[dataset['gender']=='Other'].index , inplace=True)"
   ]
  },
  {
   "cell_type": "markdown",
   "metadata": {},
   "source": [
    "Removendo atributo  `id` pois ele e chave estrangeira"
   ]
  },
  {
   "cell_type": "code",
   "execution_count": null,
   "metadata": {},
   "outputs": [],
   "source": [
    "dataset.drop(columns='id',inplace=True)"
   ]
  },
  {
   "cell_type": "markdown",
   "metadata": {},
   "source": [
    "#### Discretização\n",
    "Tratando os dados nulos , irei transformar atributo numérico bmi em categorico\n",
    "|             |                |\n",
    "| ----------- |----------------|\n",
    "|  < 18.5     | baixo peso     |\n",
    "| 18.5 - 24.9 | peso ideal     |\n",
    "| 24.9 - 29.9 | Sobrepeso      |\n",
    "| 30.0 - 34.9 | obesidade 1    |\n",
    "| 35.0 - 39.9 | Obesidade (Sévera) |\n",
    "| 40   >      | Obesidade (Mórbida) |\n",
    "\n",
    "&nbsp;\n",
    "> Isso está sendo feito por que os atributos bmi tem outlier (muitos) e para tratar se torna dificil melhor colocar os valores em determinado tipo categoricos de peso corporal"
   ]
  },
  {
   "cell_type": "code",
   "execution_count": null,
   "metadata": {},
   "outputs": [],
   "source": [
    "labels = ['Baixo peso','Peso ideal','Sobrepeso','Obesidade 1','Obesidade 2(sévera)','Obesidade 3(mórbida)']\n",
    "bins   = [min(data['bmi']),18.5,24.9,29.9,34.9,39.9,max(data['bmi']) ]"
   ]
  },
  {
   "cell_type": "code",
   "execution_count": null,
   "metadata": {},
   "outputs": [],
   "source": [
    "freq = pd.cut(x = dataset['bmi'], bins = bins, labels=labels )"
   ]
  },
  {
   "cell_type": "code",
   "execution_count": null,
   "metadata": {},
   "outputs": [],
   "source": [
    "dataset = pd.concat([freq,dataset.drop(columns='bmi')],axis=1)"
   ]
  },
  {
   "cell_type": "code",
   "execution_count": null,
   "metadata": {},
   "outputs": [],
   "source": [
    "fig = SimpleImputer(strategy='most_frequent')\n",
    "dataset['bmi'] = fig.fit_transform(dataset)[:,0]"
   ]
  },
  {
   "cell_type": "markdown",
   "metadata": {},
   "source": [
    "A ideia é imputar dados em atributo `bmi`,contudo atribuir sobrepeso para pessoas com idade <= 18 não faz sentido,pois esses dados em sua maioria tem valores para pessoas que não tiveram Avc. \n",
    "Irei também remover  atributo `work_type_children` "
   ]
  },
  {
   "cell_type": "code",
   "execution_count": null,
   "metadata": {},
   "outputs": [],
   "source": [
    "dataset.loc[( dataset['age']<=18 )]['stroke'].value_counts()"
   ]
  },
  {
   "cell_type": "markdown",
   "metadata": {},
   "source": [
    "Mostra que dados desse tipo são irrelevantes para classificação"
   ]
  },
  {
   "cell_type": "code",
   "execution_count": null,
   "metadata": {},
   "outputs": [],
   "source": [
    "dataset.loc[dataset['work_type_children']==1]"
   ]
  },
  {
   "cell_type": "markdown",
   "metadata": {},
   "source": [
    "Crianças que tiveram AVC são muitos poucas "
   ]
  },
  {
   "cell_type": "code",
   "execution_count": null,
   "metadata": {},
   "outputs": [],
   "source": [
    "index1 = dataset.loc[ ( dataset['age']<=18 )].index\n",
    "dataset.drop(index=index1,inplace=True)\n",
    "\n",
    "index2 = dataset.loc[dataset['work_type_children']==1]['stroke'].index\n",
    "dataset.drop(index=index2,inplace=True)\n",
    "\n",
    "dataset.drop(columns='work_type_children',inplace=True)"
   ]
  },
  {
   "cell_type": "markdown",
   "metadata": {},
   "source": [
    "Fazendo LabelEncoder para o atributo `bmi`"
   ]
  },
  {
   "cell_type": "code",
   "execution_count": null,
   "metadata": {},
   "outputs": [],
   "source": [
    "dataset['bmi'] = LabelEncoder().fit_transform(dataset['bmi'])"
   ]
  },
  {
   "cell_type": "code",
   "execution_count": null,
   "metadata": {},
   "outputs": [],
   "source": [
    "dataset[['age','avg_glucose_level','bmi']].corrwith(dataset['stroke'])"
   ]
  },
  {
   "cell_type": "code",
   "execution_count": null,
   "metadata": {},
   "outputs": [],
   "source": [
    "import numpy as np\n",
    "from scipy.stats import chi2_contingency\n",
    "def CorrBin(X,Y,namex,namey):\n",
    "    chi2, p, _, _ = chi2_contingency(pd.crosstab(X,Y))\n",
    "    if (p>0.1):return f'{namex} <-> {namey}',str(p)\n",
    "    return f'{namex} <-> {namey}','sair'"
   ]
  },
  {
   "cell_type": "code",
   "execution_count": null,
   "metadata": {},
   "outputs": [],
   "source": [
    "dicti = dict(\n",
    "    Atributos  =[],\n",
    "    Correlação =[]\n",
    ")\n",
    "for  _ , row in (dataset.nunique().reset_index().iterrows()):\n",
    "    if row.values[1] == 2:\n",
    "        a,atr = CorrBin(dataset[row.values[0]],dataset['stroke'],row.values[0],'stroke')\n",
    "        dicti['Atributos'].append(a)\n",
    "        dicti['Correlação'].append(atr)\n",
    "\n",
    "pd.DataFrame(dicti) "
   ]
  },
  {
   "cell_type": "code",
   "execution_count": null,
   "metadata": {},
   "outputs": [],
   "source": [
    "dataset.drop(columns=['avg_glucose_level'],inplace=True)"
   ]
  },
  {
   "cell_type": "markdown",
   "metadata": {},
   "source": [
    "Padronização dos dados"
   ]
  },
  {
   "cell_type": "code",
   "execution_count": null,
   "metadata": {},
   "outputs": [],
   "source": [
    "dataset[['age']] = StandardScaler().fit_transform(dataset[['age']])"
   ]
  },
  {
   "cell_type": "markdown",
   "metadata": {},
   "source": [
    "&nbsp;"
   ]
  },
  {
   "cell_type": "markdown",
   "metadata": {},
   "source": [
    "&nbsp;"
   ]
  },
  {
   "cell_type": "markdown",
   "metadata": {},
   "source": [
    "# Classficação"
   ]
  },
  {
   "cell_type": "code",
   "execution_count": null,
   "metadata": {},
   "outputs": [],
   "source": [
    "from sklearn.model_selection import train_test_split,GridSearchCV,RandomizedSearchCV,cross_val_score,StratifiedKFold\n",
    "from sklearn.neighbors       import KNeighborsClassifier\n",
    "from sklearn.tree            import DecisionTreeClassifier\n",
    "from sklearn.linear_model    import LogisticRegression\n",
    "from sklearn.svm             import SVC\n",
    "from sklearn.metrics         import *"
   ]
  },
  {
   "cell_type": "code",
   "execution_count": null,
   "metadata": {},
   "outputs": [],
   "source": [
    "from yellowbrick.classifier      import ROCAUC\n",
    "from yellowbrick.model_selection import LearningCurve"
   ]
  },
  {
   "cell_type": "code",
   "execution_count": null,
   "metadata": {},
   "outputs": [],
   "source": [
    "from imblearn.under_sampling import RandomUnderSampler"
   ]
  },
  {
   "cell_type": "code",
   "execution_count": null,
   "metadata": {},
   "outputs": [],
   "source": [
    "X = dataset.drop(columns=['stroke'])\n",
    "Y = dataset['stroke']"
   ]
  },
  {
   "cell_type": "markdown",
   "metadata": {},
   "source": [
    "### Balanceamento de dados\n",
    "Combinando under com o oversampling"
   ]
  },
  {
   "cell_type": "code",
   "execution_count": null,
   "metadata": {},
   "outputs": [],
   "source": [
    "dataset['stroke'].value_counts()"
   ]
  },
  {
   "cell_type": "code",
   "execution_count": null,
   "metadata": {},
   "outputs": [],
   "source": [
    "under = RandomUnderSampler(sampling_strategy={0:320,1:247},random_state=42)\n",
    "over  = RandomOverSampler(random_state=42)"
   ]
  },
  {
   "cell_type": "code",
   "execution_count": null,
   "metadata": {},
   "outputs": [],
   "source": [
    "Xunder, Yunder = under.fit_resample(X,Y)\n",
    "Xover , Yover  = over.fit_resample(Xunder,Yunder)"
   ]
  },
  {
   "cell_type": "code",
   "execution_count": null,
   "metadata": {},
   "outputs": [],
   "source": [
    "Yover.value_counts()"
   ]
  },
  {
   "cell_type": "code",
   "execution_count": null,
   "metadata": {},
   "outputs": [],
   "source": [
    "xtrain, xtest, ytrain, ytest = train_test_split(Xover.values,Yover.values,test_size=0.25,random_state=42) "
   ]
  },
  {
   "cell_type": "markdown",
   "metadata": {},
   "source": [
    "## KNN"
   ]
  },
  {
   "cell_type": "code",
   "execution_count": null,
   "metadata": {},
   "outputs": [],
   "source": [
    "params = dict(\n",
    "    n_neighbors= [5,7,10,12],\n",
    "    weights   = ['uniform', 'distance'] ,\n",
    "    algorithm = ['auto', 'ball_tree', 'kd_tree', 'brute'] ,\n",
    "    leaf_size = [30,50],\n",
    "    p         = [2,3,5,7],\n",
    ")\n",
    "\n",
    "gridKnn = GridSearchCV(\n",
    "    estimator = KNeighborsClassifier() ,\n",
    "    param_grid=params,\n",
    "    scoring='accuracy'\n",
    ")"
   ]
  },
  {
   "cell_type": "code",
   "execution_count": null,
   "metadata": {},
   "outputs": [],
   "source": [
    "gridKnn.fit(xtrain,ytrain)"
   ]
  },
  {
   "cell_type": "code",
   "execution_count": null,
   "metadata": {},
   "outputs": [],
   "source": [
    "print('Melhor estimador:\\n',gridKnn.best_estimator_)"
   ]
  },
  {
   "cell_type": "code",
   "execution_count": null,
   "metadata": {},
   "outputs": [],
   "source": [
    "gridKnn.best_score_"
   ]
  },
  {
   "cell_type": "code",
   "execution_count": null,
   "metadata": {},
   "outputs": [],
   "source": [
    "knn = KNeighborsClassifier(algorithm='ball_tree', n_neighbors=12, p=3)"
   ]
  },
  {
   "cell_type": "code",
   "execution_count": null,
   "metadata": {},
   "outputs": [],
   "source": [
    "knn.fit(xtrain,ytrain)"
   ]
  },
  {
   "cell_type": "code",
   "execution_count": null,
   "metadata": {},
   "outputs": [],
   "source": [
    "pred = knn.predict(xtest)"
   ]
  },
  {
   "cell_type": "code",
   "execution_count": null,
   "metadata": {},
   "outputs": [],
   "source": [
    "plt.figure(figsize=(5,4))\n",
    "sea.heatmap(confusion_matrix(ytest,pred),annot=True,fmt='')\n",
    "plt.title(f'accuracy_score {accuracy_score(ytest,pred)}')\n",
    "plt.show()"
   ]
  },
  {
   "cell_type": "code",
   "execution_count": null,
   "metadata": {},
   "outputs": [],
   "source": [
    "print(f'f1_score :{f1_score(ytest,pred)}')\n",
    "print(f'recall   :{recall_score(ytest,pred)}')"
   ]
  },
  {
   "cell_type": "code",
   "execution_count": null,
   "metadata": {},
   "outputs": [],
   "source": [
    "print(classification_report(ytest,pred))"
   ]
  },
  {
   "cell_type": "code",
   "execution_count": null,
   "metadata": {},
   "outputs": [],
   "source": [
    "os = ROCAUC(knn)\n",
    "os.fit(xtrain,ytrain)\n",
    "os.score(xtest,ytest)\n",
    "os.show()\n",
    "plt.show()"
   ]
  },
  {
   "cell_type": "code",
   "execution_count": null,
   "metadata": {},
   "outputs": [],
   "source": [
    "from sklearn.pipeline import Pipeline"
   ]
  },
  {
   "cell_type": "markdown",
   "metadata": {},
   "source": [
    "## Regressão Logistica"
   ]
  },
  {
   "cell_type": "code",
   "execution_count": null,
   "metadata": {},
   "outputs": [],
   "source": [
    "params = dict(\n",
    "    penalty=['l1', 'l2', 'elasticnet'],\n",
    "    solver = ['lbfgs', 'liblinear', 'newton-cg', 'newton-cholesky', 'sag', 'saga'],\n",
    "    max_iter= [100,350,500,700,1000]\n",
    ")\n",
    "gridLogistic = GridSearchCV(\n",
    "    estimator = LogisticRegression(),\n",
    "    param_grid= params,\n",
    "    scoring   = 'accuracy'\n",
    ") "
   ]
  },
  {
   "cell_type": "code",
   "execution_count": null,
   "metadata": {},
   "outputs": [],
   "source": [
    "from sklearn.exceptions import FitFailedWarning\n",
    "warnings.filterwarnings(action='ignore',category=FitFailedWarning)"
   ]
  },
  {
   "cell_type": "code",
   "execution_count": null,
   "metadata": {},
   "outputs": [],
   "source": [
    "gridLogistic.fit(xtrain,ytrain)"
   ]
  },
  {
   "cell_type": "code",
   "execution_count": null,
   "metadata": {},
   "outputs": [],
   "source": [
    "print('Melhor Estimador :\\n',gridLogistic.best_estimator_)"
   ]
  },
  {
   "cell_type": "code",
   "execution_count": null,
   "metadata": {},
   "outputs": [],
   "source": [
    "gridLogistic.best_score_"
   ]
  },
  {
   "cell_type": "code",
   "execution_count": null,
   "metadata": {},
   "outputs": [],
   "source": [
    "pred =  LogisticRegression(penalty='l1', solver='liblinear').fit(xtrain,ytrain).predict(xtest)"
   ]
  },
  {
   "cell_type": "code",
   "execution_count": null,
   "metadata": {},
   "outputs": [],
   "source": [
    "plt.figure(figsize=(5,4))\n",
    "sea.heatmap(confusion_matrix(ytest,pred),annot=True,fmt='')\n",
    "plt.title(f'accuracy_score {accuracy_score(ytest,pred)}')\n",
    "plt.show()"
   ]
  },
  {
   "cell_type": "code",
   "execution_count": null,
   "metadata": {},
   "outputs": [],
   "source": [
    "print(f'f1_score :{f1_score(ytest,pred)}')\n",
    "print(f'recall   :{recall_score(ytest,pred)}')"
   ]
  },
  {
   "cell_type": "code",
   "execution_count": null,
   "metadata": {},
   "outputs": [],
   "source": [
    "print(classification_report(ytest,pred))"
   ]
  },
  {
   "cell_type": "markdown",
   "metadata": {},
   "source": [
    "## Tree"
   ]
  },
  {
   "cell_type": "code",
   "execution_count": null,
   "metadata": {},
   "outputs": [],
   "source": [
    "params = dict(\n",
    "    criterion=['gini', 'entropy', 'log_loss'],\n",
    "    splitter =['best', 'random'] ,\n",
    "    max_depth= [i for i in range(10,150,20)],\n",
    "    max_features=['auto', 'sqrt', 'log2'],\n",
    ")\n",
    "gridTree = GridSearchCV(\n",
    "    estimator = DecisionTreeClassifier(),\n",
    "    param_grid= params,\n",
    "    scoring   = 'accuracy', \n",
    ") "
   ]
  },
  {
   "cell_type": "code",
   "execution_count": null,
   "metadata": {},
   "outputs": [],
   "source": [
    "gridTree.fit(xtrain,ytrain)"
   ]
  },
  {
   "cell_type": "code",
   "execution_count": null,
   "metadata": {},
   "outputs": [],
   "source": [
    "gridTree.best_score_"
   ]
  },
  {
   "cell_type": "markdown",
   "metadata": {},
   "source": [
    "### Svm"
   ]
  }
 ],
 "metadata": {
  "kernelspec": {
   "display_name": "venv",
   "language": "python",
   "name": "python3"
  },
  "language_info": {
   "codemirror_mode": {
    "name": "ipython",
    "version": 3
   },
   "file_extension": ".py",
   "mimetype": "text/x-python",
   "name": "python",
   "nbconvert_exporter": "python",
   "pygments_lexer": "ipython3",
   "version": "3.11.2"
  }
 },
 "nbformat": 4,
 "nbformat_minor": 2
}
