{
 "cells": [
  {
   "cell_type": "markdown",
   "metadata": {},
   "source": [
    "| Termo            | Significado                             |\n",
    "|------------------|-----------------------------------------|\n",
    "| HeartDisease     | Doença cardíaca                         |\n",
    "| BMI              | Índice de massa corporal                |\n",
    "| Smoking          | Fumar (hábito de fumar)                |\n",
    "| AlcoholDrinking  | Consumo de álcool                       |\n",
    "| Stroke           | Acidente vascular cerebral (AVC)        |\n",
    "| PhysicalHealth   | Saúde física                            |\n",
    "| MentalHealth     | Saúde mental                            |\n",
    "| DiffWalking      | Dificuldade para caminhar               |\n",
    "| Sex              | Sexo (masculino ou feminino)            |\n",
    "| AgeCategory      | Categoria de idade                      |\n",
    "| Race             | Raça                                    |\n",
    "| Diabetic         | Diabético                               |\n",
    "| PhysicalActivity | Atividade física                        |\n",
    "| GenHealth        | Saúde geral                             |\n",
    "| SleepTime        | Tempo de sono                           |\n",
    "| Asthma           | Asma                                    |\n",
    "| KidneyDisease    | Doença renal                            |\n",
    "| SkinCancer       | Câncer de pele                          |\n"
   ]
  },
  {
   "cell_type": "code",
   "execution_count": 1,
   "metadata": {},
   "outputs": [],
   "source": [
    "from sklearn.exceptions import DataConversionWarning\n",
    "import warnings\n",
    "import numpy as np\n",
    "import pandas as pd\n",
    "import seaborn as sea\n",
    "import matplotlib.pyplot as plt"
   ]
  },
  {
   "cell_type": "code",
   "execution_count": 2,
   "metadata": {},
   "outputs": [],
   "source": [
    "warnings.filterwarnings('ignore',category=DataConversionWarning)"
   ]
  },
  {
   "cell_type": "code",
   "execution_count": 39,
   "metadata": {},
   "outputs": [],
   "source": [
    "data = pd.read_csv(r'datasets/HeartDiseasePredictionClassification/2020/heart_2020_cleaned.csv')"
   ]
  }
 ],
 "metadata": {
  "kernelspec": {
   "display_name": "venvGlobal",
   "language": "python",
   "name": "python3"
  },
  "language_info": {
   "codemirror_mode": {
    "name": "ipython",
    "version": 3
   },
   "file_extension": ".py",
   "mimetype": "text/x-python",
   "name": "python",
   "nbconvert_exporter": "python",
   "pygments_lexer": "ipython3",
   "version": "3.11.8"
  }
 },
 "nbformat": 4,
 "nbformat_minor": 2
}
